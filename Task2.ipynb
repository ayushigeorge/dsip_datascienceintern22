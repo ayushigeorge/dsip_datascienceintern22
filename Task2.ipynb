{
 "cells": [
  {
   "cell_type": "markdown",
   "id": "39415b87",
   "metadata": {},
   "source": [
    "# Data Science Internship 2022\n",
    "Task 2:"
   ]
  },
  {
   "cell_type": "markdown",
   "id": "be31a41e",
   "metadata": {},
   "source": [
    "### Make a color detection system with the help of Panda and Open CV based on the provided dataset."
   ]
  },
  {
   "cell_type": "code",
   "execution_count": 20,
   "id": "20a1716d",
   "metadata": {},
   "outputs": [
    {
     "name": "stdout",
     "output_type": "stream",
     "text": [
      "Collecting opencv-python\n",
      "  Downloading opencv_python-4.5.5.64-cp36-abi3-win_amd64.whl (35.4 MB)\n",
      "Requirement already satisfied: numpy>=1.17.3 in c:\\users\\dell\\anaconda3\\lib\\site-packages (from opencv-python) (1.20.3)\n",
      "Installing collected packages: opencv-python\n",
      "Successfully installed opencv-python-4.5.5.64\n",
      "Note: you may need to restart the kernel to use updated packages.\n"
     ]
    }
   ],
   "source": [
    "pip install opencv-python"
   ]
  },
  {
   "cell_type": "code",
   "execution_count": 1,
   "id": "82ad7eb9",
   "metadata": {},
   "outputs": [],
   "source": [
    "import cv2\n",
    "import numpy as np\n",
    "import pandas as pd\n"
   ]
  },
  {
   "cell_type": "code",
   "execution_count": 2,
   "id": "779307d6",
   "metadata": {},
   "outputs": [],
   "source": [
    "img_path = \"venice.jpg\"\n",
    "img = cv2.imread(img_path)"
   ]
  },
  {
   "cell_type": "code",
   "execution_count": 6,
   "id": "ab3c1229",
   "metadata": {},
   "outputs": [],
   "source": [
    "index=[\"color\",\"color_name\",\"hex\",\"R\",\"G\",\"B\"]\n",
    "csv = pd.read_csv(\"colors.csv\", names=index, header=None)"
   ]
  },
  {
   "cell_type": "code",
   "execution_count": 14,
   "id": "2bb64cd1",
   "metadata": {},
   "outputs": [],
   "source": [
    "def get_color_name(R, G, B):\n",
    "    minimum = 10000\n",
    "    for i in range(len(csv)):\n",
    "        d = abs(R - int(csv.loc[i, \"R\"])) + abs(G - int(csv.loc[i, \"G\"])) + abs(B - int(csv.loc[i, \"B\"]))\n",
    "        if d <= minimum:\n",
    "            minimum = d\n",
    "            cname = csv.loc[i, \"color_name\"]\n",
    "    return cname"
   ]
  },
  {
   "cell_type": "code",
   "execution_count": 15,
   "id": "d77cc4df",
   "metadata": {},
   "outputs": [],
   "source": [
    "def draw_function(event, x, y, flags, param):\n",
    "    if event == cv2.EVENT_LBUTTONDBLCLK:\n",
    "        global b, g, r, x_pos, y_pos, clicked\n",
    "        clicked = True\n",
    "        x_pos = x\n",
    "        y_pos = y\n",
    "        b, g, r = img[y, x]\n",
    "        b = int(b)\n",
    "        g = int(g)\n",
    "        r = int(r)"
   ]
  },
  {
   "cell_type": "code",
   "execution_count": 16,
   "id": "c9ec5e1b",
   "metadata": {},
   "outputs": [],
   "source": [
    "cv2.namedWindow('Image')\n",
    "cv2.setMouseCallback('Image', draw_function)"
   ]
  },
  {
   "cell_type": "code",
   "execution_count": null,
   "id": "91e62f52",
   "metadata": {},
   "outputs": [],
   "source": [
    "while True:\n",
    "\n",
    "    cv2.imshow(\"Image\", img)\n",
    "    if clicked:\n",
    "\n",
    "        # cv2.rectangle(image, start point, endpoint, color, thickness)-1 fills entire rectangle\n",
    "        cv2.rectangle(img, (20, 20), (710, 70), (b, g, r), -1)\n",
    "\n",
    "        # Creating text string to display( Color name and RGB values )\n",
    "        text = get_color_name(r, g, b) + ' R=' + str(r) + ' G=' + str(g) + ' B=' + str(b)\n",
    "\n",
    "        # cv2.putText(img,text,start,font(0-7),fontScale,color,thickness,lineType )\n",
    "        cv2.putText(img, text, (50, 50), 2, 0.8, (255, 255, 255), 2, cv2.LINE_AA)\n",
    "\n",
    "        # For very light colours we will display text in black colour\n",
    "        if r + g + b >= 600:\n",
    "            cv2.putText(img, text, (50, 50), 2, 0.8, (0, 0, 0), 2, cv2.LINE_AA)\n",
    "\n",
    "        clicked = False\n",
    "\n",
    "    # Break the loop when user hits 'esc' key\n",
    "    if cv2.waitKey(20) & 0xFF == 27:\n",
    "        break\n",
    "\n",
    "cv2.destroyAllWindows()\n",
    " \n",
    " "
   ]
  }
 ],
 "metadata": {
  "kernelspec": {
   "display_name": "Python 3 (ipykernel)",
   "language": "python",
   "name": "python3"
  },
  "language_info": {
   "codemirror_mode": {
    "name": "ipython",
    "version": 3
   },
   "file_extension": ".py",
   "mimetype": "text/x-python",
   "name": "python",
   "nbconvert_exporter": "python",
   "pygments_lexer": "ipython3",
   "version": "3.9.7"
  }
 },
 "nbformat": 4,
 "nbformat_minor": 5
}
